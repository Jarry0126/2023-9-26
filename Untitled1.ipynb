{
  "nbformat": 4,
  "nbformat_minor": 0,
  "metadata": {
    "colab": {
      "provenance": [],
      "authorship_tag": "ABX9TyOvmDoEiULcpuJ2gyJPJzF4",
      "include_colab_link": true
    },
    "kernelspec": {
      "name": "python3",
      "display_name": "Python 3"
    },
    "language_info": {
      "name": "python"
    }
  },
  "cells": [
    {
      "cell_type": "markdown",
      "metadata": {
        "id": "view-in-github",
        "colab_type": "text"
      },
      "source": [
        "<a href=\"https://colab.research.google.com/github/Jarry0126/2023-9-26/blob/main/Untitled1.ipynb\" target=\"_parent\"><img src=\"https://colab.research.google.com/assets/colab-badge.svg\" alt=\"Open In Colab\"/></a>"
      ]
    },
    {
      "cell_type": "code",
      "execution_count": null,
      "metadata": {
        "colab": {
          "base_uri": "https://localhost:8080/"
        },
        "id": "KtPaYZI-duru",
        "outputId": "41c8e599-e781-478a-e1eb-0da81772c76b"
      },
      "outputs": [
        {
          "output_type": "stream",
          "name": "stdout",
          "text": [
            "A\n",
            "['K', 'H', 'U']\n"
          ]
        }
      ],
      "source": [
        "a='C,B,A'\n",
        "b=['F','G','H']\n",
        "c=a.split(',')+b\n",
        "c[0]='K'\n",
        "print(c.pop(2))\n",
        "del c[1:4]\n",
        "c.append('U')\n",
        "print(c)"
      ]
    },
    {
      "cell_type": "code",
      "source": [
        "a=float(input(\"請輸入身高（公尺）：\"))\n",
        "b=float(input(\"請輸入體重（公斤）：\"))\n",
        "b/=a\n",
        "b/=a\n",
        "print(\"BMI:\",b)\n",
        "if(b<18.5):\n",
        "    print(\"體位：過輕\")\n",
        "elif (b<24):\n",
        "    print(\"體位：適中\")\n",
        "elif (b<27):\n",
        "    print(\"體位：過重\")\n",
        "else :\n",
        "    print(\"體位：肥胖\")\n",
        "\n",
        "\n",
        "\n"
      ],
      "metadata": {
        "colab": {
          "base_uri": "https://localhost:8080/"
        },
        "id": "KNGIC9hTltAF",
        "outputId": "6f204976-1656-4f45-fed4-7bffc9098f1d"
      },
      "execution_count": null,
      "outputs": [
        {
          "output_type": "stream",
          "name": "stdout",
          "text": [
            "請輸入身高（公尺）：1.8\n",
            "請輸入體重（公斤）：64\n",
            "BMI: 19.753086419753085\n",
            "體位：適中\n"
          ]
        }
      ]
    }
  ]
}