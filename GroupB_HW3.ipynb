{
  "nbformat": 4,
  "nbformat_minor": 0,
  "metadata": {
    "colab": {
      "provenance": [],
      "authorship_tag": "ABX9TyMuLfaAwCEZPW56BBUxmUJW",
      "include_colab_link": true
    },
    "kernelspec": {
      "name": "python3",
      "display_name": "Python 3"
    },
    "language_info": {
      "name": "python"
    }
  },
  "cells": [
    {
      "cell_type": "markdown",
      "metadata": {
        "id": "view-in-github",
        "colab_type": "text"
      },
      "source": [
        "<a href=\"https://colab.research.google.com/github/Jarry0126/2023-9-26/blob/main/GroupB_HW3.ipynb\" target=\"_parent\"><img src=\"https://colab.research.google.com/assets/colab-badge.svg\" alt=\"Open In Colab\"/></a>"
      ]
    },
    {
      "cell_type": "code",
      "execution_count": 1,
      "metadata": {
        "colab": {
          "base_uri": "https://localhost:8080/"
        },
        "id": "frUG5XBQX43-",
        "outputId": "6bfac3d7-5d30-4f75-df14-f52f04fa3b0a"
      },
      "outputs": [
        {
          "output_type": "stream",
          "name": "stdout",
          "text": [
            "I'm a student.\n"
          ]
        }
      ],
      "source": [
        "print(\"I'm a student.\")"
      ]
    },
    {
      "cell_type": "code",
      "source": [
        "a=float(input(\"輸入x1:\"))\n",
        "b=float(input(\"輸入y1:\"))\n",
        "c=float(input(\"輸入x2:\"))\n",
        "d=float(input(\"輸入y2:\"))\n",
        "print(\"AB的距離是\",(((a-c)**2+(b-d)**2)**0.5))"
      ],
      "metadata": {
        "colab": {
          "base_uri": "https://localhost:8080/"
        },
        "id": "E2ZkuCeSY_Rr",
        "outputId": "02f90204-6088-47fe-f690-09f8516d89fc"
      },
      "execution_count": 8,
      "outputs": [
        {
          "output_type": "stream",
          "name": "stdout",
          "text": [
            "輸入x1:3\n",
            "輸入y1:6\n",
            "輸入x2:8\n",
            "輸入y2:18\n",
            "AB的距離是 13.0\n"
          ]
        }
      ]
    },
    {
      "cell_type": "code",
      "source": [
        "a=float(input(\"請輸入身高（公尺）：\"))\n",
        "b=float(input(\"請輸入體重（公斤）：\"))\n",
        "b/=a\n",
        "b/=a\n",
        "print(b>18.5)"
      ],
      "metadata": {
        "colab": {
          "base_uri": "https://localhost:8080/"
        },
        "id": "g4BSRmv4cvGG",
        "outputId": "f4dd10f8-0edb-43a1-c670-dd65104b2804"
      },
      "execution_count": 11,
      "outputs": [
        {
          "output_type": "stream",
          "name": "stdout",
          "text": [
            "請輸入身高（公尺）：1.82\n",
            "請輸入體重（公斤）：64.3\n",
            "True\n"
          ]
        }
      ]
    }
  ]
}